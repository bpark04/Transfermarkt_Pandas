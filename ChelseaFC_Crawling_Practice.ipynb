{
 "cells": [
  {
   "cell_type": "markdown",
   "id": "0eb3352b",
   "metadata": {},
   "source": [
    "# Chelsea FC Data"
   ]
  },
  {
   "cell_type": "markdown",
   "id": "5be8dd86",
   "metadata": {},
   "source": [
    "## Request "
   ]
  },
  {
   "cell_type": "code",
   "execution_count": 56,
   "id": "aec62162",
   "metadata": {},
   "outputs": [],
   "source": [
    "import requests"
   ]
  },
  {
   "cell_type": "code",
   "execution_count": 57,
   "id": "3162b6c9",
   "metadata": {},
   "outputs": [
    {
     "data": {
      "text/plain": [
       "200"
      ]
     },
     "execution_count": 57,
     "metadata": {},
     "output_type": "execute_result"
    }
   ],
   "source": [
    "#Put 'User-Agent' value to headears\n",
    "#https://docs.python-requests.org/en/master/\n",
    "headers = {'User-Agent' : \"Mozilla/5.0 (Macintosh; Intel Mac OS X 10_15_7) AppleWebKit/537.36 (KHTML, like Gecko) Chrome/91.0.4472.114 Safari/537.36\"}\n",
    "url = \"https://www.transfermarkt.com/\"\n",
    "r = requests.get(url, headers=headers)\n",
    "r.status_code"
   ]
  },
  {
   "cell_type": "markdown",
   "id": "f0ee1c28",
   "metadata": {},
   "source": [
    "## BeautifulSoup Quick Start"
   ]
  },
  {
   "cell_type": "code",
   "execution_count": 58,
   "id": "14bcdc2d",
   "metadata": {},
   "outputs": [],
   "source": [
    "html_doc = \"\"\"<html><head><title>Chelsea FC Squad 2021/22</title></head>\n",
    "<body>\n",
    "<p class=\"title\"><b>Chelsea FC Squad 2021/22</b></p>\n",
    "\n",
    "<p class=\"players\">Player List\n",
    "<a href=\"http://chelsea.com/pulisic\" class=\"forward\" id=\"USA\">Christian Pulisic 10</a>,\n",
    "<a href=\"http://chelsea.com/werner\" class=\"forward\" id=\"German\">Timo Werner 11</a> and\n",
    "<a href=\"http://chelsea.com/havertz \" class=\"midfielder\" id=\"German\">Kai Harvertz 29</a>;\n",
    "</p>\n",
    "\n",
    "<p class=\"statistics\">...</p>\"\"\""
   ]
  },
  {
   "cell_type": "code",
   "execution_count": 59,
   "id": "3118f1d4",
   "metadata": {},
   "outputs": [],
   "source": [
    "from bs4 import BeautifulSoup\n",
    "soup = BeautifulSoup(html_doc, 'html.parser')"
   ]
  },
  {
   "cell_type": "code",
   "execution_count": 60,
   "id": "194840c1",
   "metadata": {},
   "outputs": [
    {
     "data": {
      "text/plain": [
       "<p class=\"title\"><b>Chelsea FC Squad 2021/22</b></p>"
      ]
     },
     "execution_count": 60,
     "metadata": {},
     "output_type": "execute_result"
    }
   ],
   "source": [
    "# first 'p' tag\n",
    "soup.p\n",
    "soup.find('p')"
   ]
  },
  {
   "cell_type": "code",
   "execution_count": 61,
   "id": "21098c73",
   "metadata": {},
   "outputs": [
    {
     "data": {
      "text/plain": [
       "'http://chelsea.com/pulisic'"
      ]
     },
     "execution_count": 61,
     "metadata": {},
     "output_type": "execute_result"
    }
   ],
   "source": [
    "# first href value in 'a' tag\n",
    "soup.find('a')['href']\n",
    "soup.a['href']"
   ]
  },
  {
   "cell_type": "code",
   "execution_count": 62,
   "id": "6079fe42",
   "metadata": {},
   "outputs": [
    {
     "data": {
      "text/plain": [
       "'Christian Pulisic 10'"
      ]
     },
     "execution_count": 62,
     "metadata": {},
     "output_type": "execute_result"
    }
   ],
   "source": [
    "# first text in 'a' tag\n",
    "soup.find('a').text\n",
    "soup.find('a').get_text()"
   ]
  },
  {
   "cell_type": "code",
   "execution_count": 63,
   "id": "05048252",
   "metadata": {},
   "outputs": [
    {
     "data": {
      "text/plain": [
       "[<a class=\"forward\" href=\"http://chelsea.com/pulisic\" id=\"USA\">Christian Pulisic 10</a>,\n",
       " <a class=\"forward\" href=\"http://chelsea.com/werner\" id=\"German\">Timo Werner 11</a>,\n",
       " <a class=\"midfielder\" href=\"http://chelsea.com/havertz \" id=\"German\">Kai Harvertz 29</a>]"
      ]
     },
     "execution_count": 63,
     "metadata": {},
     "output_type": "execute_result"
    }
   ],
   "source": [
    "# all 'a' tag\n",
    "soup.find_all('a')"
   ]
  },
  {
   "cell_type": "code",
   "execution_count": 64,
   "id": "595e259d",
   "metadata": {},
   "outputs": [
    {
     "data": {
      "text/plain": [
       "<a class=\"forward\" href=\"http://chelsea.com/werner\" id=\"German\">Timo Werner 11</a>"
      ]
     },
     "execution_count": 64,
     "metadata": {},
     "output_type": "execute_result"
    }
   ],
   "source": [
    "# second 'a' tag\n",
    "soup.find_all('a')[1]"
   ]
  },
  {
   "cell_type": "code",
   "execution_count": 65,
   "id": "e57194c3",
   "metadata": {},
   "outputs": [
    {
     "name": "stdout",
     "output_type": "stream",
     "text": [
      "http://chelsea.com/pulisic\n",
      "http://chelsea.com/werner\n",
      "http://chelsea.com/havertz \n"
     ]
    }
   ],
   "source": [
    "# href in all a tags\n",
    "player_list = soup.find_all('a')\n",
    "for a in player_list:\n",
    "    print(a['href'])"
   ]
  },
  {
   "cell_type": "code",
   "execution_count": 66,
   "id": "7061736f",
   "metadata": {},
   "outputs": [
    {
     "name": "stdout",
     "output_type": "stream",
     "text": [
      "Christian Pulisic 10\n",
      "Timo Werner 11\n",
      "Kai Harvertz 29\n"
     ]
    }
   ],
   "source": [
    "# texts in all a tags\n",
    "player_list = soup.find_all('a')\n",
    "for a in player_list:\n",
    "    print(a.text)"
   ]
  },
  {
   "cell_type": "code",
   "execution_count": 67,
   "id": "bcb5582f",
   "metadata": {},
   "outputs": [
    {
     "data": {
      "text/plain": [
       "[<a class=\"forward\" href=\"http://chelsea.com/pulisic\" id=\"USA\">Christian Pulisic 10</a>,\n",
       " <a class=\"forward\" href=\"http://chelsea.com/werner\" id=\"German\">Timo Werner 11</a>]"
      ]
     },
     "execution_count": 67,
     "metadata": {},
     "output_type": "execute_result"
    }
   ],
   "source": [
    "# a tag && class = 'forward'\n",
    "soup.find_all(\"a\", class_=\"forward\")\n",
    "soup.find_all(\"a\", {\"class\":\"forward\"})"
   ]
  },
  {
   "cell_type": "code",
   "execution_count": 68,
   "id": "924de7b1",
   "metadata": {},
   "outputs": [
    {
     "data": {
      "text/plain": [
       "[<a class=\"forward\" href=\"http://chelsea.com/werner\" id=\"German\">Timo Werner 11</a>,\n",
       " <a class=\"midfielder\" href=\"http://chelsea.com/havertz \" id=\"German\">Kai Harvertz 29</a>]"
      ]
     },
     "execution_count": 68,
     "metadata": {},
     "output_type": "execute_result"
    }
   ],
   "source": [
    "# a tag && id = 'German'\n",
    "soup.find_all(\"a\", id='German')\n",
    "soup.find_all(\"a\", {\"id\":\"German\"})"
   ]
  }
 ],
 "metadata": {
  "kernelspec": {
   "display_name": "Python 3",
   "language": "python",
   "name": "python3"
  },
  "language_info": {
   "codemirror_mode": {
    "name": "ipython",
    "version": 3
   },
   "file_extension": ".py",
   "mimetype": "text/x-python",
   "name": "python",
   "nbconvert_exporter": "python",
   "pygments_lexer": "ipython3",
   "version": "3.8.8"
  }
 },
 "nbformat": 4,
 "nbformat_minor": 5
}
